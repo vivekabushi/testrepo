{
 "cells": [
  {
   "cell_type": "markdown",
   "id": "12f4919b-dfd7-4f2b-a2ac-6a33233f70fd",
   "metadata": {},
   "source": [
    "# The elements of Jupyter notebook"
   ]
  },
  {
   "cell_type": "markdown",
   "id": "4be923b8-272c-44d0-86a6-3e576c321159",
   "metadata": {
    "tags": []
   },
   "source": [
    "# Introduction"
   ]
  },
  {
   "cell_type": "markdown",
   "id": "9b149612-d4f6-44f4-bb6c-c54d61736283",
   "metadata": {},
   "source": [
    "#### In this notebook, Data Science Tools and Ecosystem are summarized.\n"
   ]
  },
  {
   "cell_type": "markdown",
   "id": "b91aa203-2de8-4ef5-86b1-fe01994c3f09",
   "metadata": {
    "tags": []
   },
   "source": [
    "## Some of the popular languages that Data Scientists use are:"
   ]
  },
  {
   "cell_type": "markdown",
   "id": "47008b62-70bf-4242-a3b0-9e3624cc3eb8",
   "metadata": {
    "tags": []
   },
   "source": [
    "<ol>\n",
    "  <li>TensorFlow</li>\n",
    "  <li>NumPy</li> \n",
    "  <li>Keras</li>\n",
    "</ol>"
   ]
  },
  {
   "cell_type": "markdown",
   "id": "af73c604-b1bc-4d05-95a2-071e17c5470c",
   "metadata": {},
   "source": [
    "# Some of the popular languages that Data Scientists use are:"
   ]
  },
  {
   "cell_type": "markdown",
   "id": "42fea091-c63b-4610-9f51-fb82d2cf1188",
   "metadata": {
    "tags": []
   },
   "source": [
    "<ol>\n",
    "  <li>Python</li>\n",
    "  <li>R</li> \n",
    "  <li>Julia</li>\n",
    "</ol>"
   ]
  },
  {
   "cell_type": "markdown",
   "id": "17fc70a6-77eb-4d19-95aa-58f67e2e7367",
   "metadata": {
    "tags": []
   },
   "source": [
    "## Table of Data Science tools"
   ]
  },
  {
   "cell_type": "markdown",
   "id": "ef4a1165-3708-425f-90fc-9f79cffcafc9",
   "metadata": {
    "tags": []
   },
   "source": [
    "|Data Science tools|\n",
    "--------------------\n",
    "| Apache Spark |\n",
    "| Tensor Flow|\n",
    "| Matplotlib |"
   ]
  },
  {
   "cell_type": "markdown",
   "id": "36b9375a-c522-4ab7-99b9-2ea1ec0fa66f",
   "metadata": {
    "tags": []
   },
   "source": [
    "# Arithmetic expression examples"
   ]
  },
  {
   "cell_type": "markdown",
   "id": "d324a9d1-219c-4e4e-b95e-4ecb3dde0217",
   "metadata": {
    "tags": []
   },
   "source": [
    "### Below are a few examples of evaluating arithmetic expressions in Python"
   ]
  },
  {
   "cell_type": "code",
   "execution_count": 13,
   "id": "6bcbf9cb-0aec-4476-9485-598f13e27606",
   "metadata": {
    "tags": []
   },
   "outputs": [
    {
     "data": {
      "text/plain": [
       "2"
      ]
     },
     "execution_count": 13,
     "metadata": {},
     "output_type": "execute_result"
    }
   ],
   "source": [
    "1+1"
   ]
  },
  {
   "cell_type": "code",
   "execution_count": 14,
   "id": "911f6a93-034b-48e0-9885-48a4023e4a4e",
   "metadata": {
    "tags": []
   },
   "outputs": [
    {
     "data": {
      "text/plain": [
       "10"
      ]
     },
     "execution_count": 14,
     "metadata": {},
     "output_type": "execute_result"
    }
   ],
   "source": [
    "2*5"
   ]
  },
  {
   "cell_type": "code",
   "execution_count": 17,
   "id": "99e9bb3b-fbb7-4cdc-ae79-329cf26920df",
   "metadata": {
    "tags": []
   },
   "outputs": [
    {
     "data": {
      "text/plain": [
       "8.5"
      ]
     },
     "execution_count": 17,
     "metadata": {},
     "output_type": "execute_result"
    }
   ],
   "source": [
    "4 + (9*5)/6 - 3"
   ]
  },
  {
   "cell_type": "markdown",
   "id": "78ca1ba3-83dd-4c51-b676-5f68c8b43cc3",
   "metadata": {},
   "source": [
    "### Multiply and add numbers"
   ]
  },
  {
   "cell_type": "code",
   "execution_count": 19,
   "id": "20d1b2c2-f3ba-483b-ac33-54d012c24d01",
   "metadata": {
    "tags": []
   },
   "outputs": [
    {
     "data": {
      "text/plain": [
       "17"
      ]
     },
     "execution_count": 19,
     "metadata": {},
     "output_type": "execute_result"
    }
   ],
   "source": [
    "## This a simple arithmetic expression to mutiply then add integers.\n",
    "(3*4)+5"
   ]
  },
  {
   "cell_type": "markdown",
   "id": "035d0142-e599-481a-9954-77210824e016",
   "metadata": {},
   "source": [
    "## Convert minutes to hours"
   ]
  },
  {
   "cell_type": "code",
   "execution_count": 25,
   "id": "7b8e5617-e9a0-4ca3-97dc-b424476672ff",
   "metadata": {
    "tags": []
   },
   "outputs": [
    {
     "data": {
      "text/plain": [
       "3.3333333333333335"
      ]
     },
     "execution_count": 25,
     "metadata": {},
     "output_type": "execute_result"
    }
   ],
   "source": [
    "## This will convert 200 minutes to hours by diving by 60\n",
    "200/60"
   ]
  },
  {
   "cell_type": "markdown",
   "id": "6eccc049-2ff6-4de7-b9e2-35d196250e05",
   "metadata": {},
   "source": [
    "## Objectives"
   ]
  },
  {
   "cell_type": "markdown",
   "id": "c106b333-0ae8-4fe4-8e10-61056aaea906",
   "metadata": {
    "tags": []
   },
   "source": [
    "Below items are covered in this module: \n",
    "\n",
    "* List popular languages for Data Science\n",
    "* Arithmetic operations examples\n",
    "* Table of data science tools\n",
    "* Popular languages and tools used in Data Science"
   ]
  },
  {
   "cell_type": "markdown",
   "id": "fef93718-6e6b-4ea7-b4d1-c5011b4a6e4e",
   "metadata": {
    "tags": []
   },
   "source": [
    "# Author's details\n",
    "## Author\n",
    "Vivek A"
   ]
  },
  {
   "cell_type": "code",
   "execution_count": null,
   "id": "e4e5ac86-7a04-488b-ad0f-12de1e5ac82f",
   "metadata": {},
   "outputs": [],
   "source": []
  }
 ],
 "metadata": {
  "kernelspec": {
   "display_name": "Python",
   "language": "python",
   "name": "conda-env-python-py"
  },
  "language_info": {
   "codemirror_mode": {
    "name": "ipython",
    "version": 3
   },
   "file_extension": ".py",
   "mimetype": "text/x-python",
   "name": "python",
   "nbconvert_exporter": "python",
   "pygments_lexer": "ipython3",
   "version": "3.7.12"
  }
 },
 "nbformat": 4,
 "nbformat_minor": 5
}
